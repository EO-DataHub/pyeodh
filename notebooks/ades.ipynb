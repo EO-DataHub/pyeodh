{
 "cells": [
  {
   "cell_type": "markdown",
   "metadata": {},
   "source": [
    "# ADES\n",
    "This notebook demonstrates deployment and execution of workflows on ADES.\n",
    "\n",
    "Instantiate ADES client:"
   ]
  },
  {
   "cell_type": "code",
   "execution_count": 1,
   "metadata": {},
   "outputs": [],
   "source": [
    "from requests import HTTPError\n",
    "import os\n",
    "\n",
    "import pyeodh\n",
    "\n",
    "username = os.getenv(\"ADES_USER\")\n",
    "password = os.getenv(\"ADES_PASSWORD\")\n",
    "\n",
    "client = pyeodh.Client(auth=(username, password))\n",
    "ades = client.get_ades()"
   ]
  },
  {
   "cell_type": "markdown",
   "metadata": {},
   "source": [
    "Get available processes"
   ]
  },
  {
   "cell_type": "code",
   "execution_count": 2,
   "metadata": {},
   "outputs": [
    {
     "name": "stdout",
     "output_type": "stream",
     "text": [
      "display\n",
      "echo\n",
      "produce-indicator\n",
      "convert-url\n"
     ]
    }
   ],
   "source": [
    "for p in ades.get_processes():\n",
    "    print(p.id)"
   ]
  },
  {
   "cell_type": "markdown",
   "metadata": {},
   "source": [
    "Get list of previously executed jobs"
   ]
  },
  {
   "cell_type": "code",
   "execution_count": 3,
   "metadata": {},
   "outputs": [
    {
     "name": "stdout",
     "output_type": "stream",
     "text": [
      "5aad4340-1433-11ef-8ba3-5e783c18dea9 convert-url failed\n",
      "470164c2-0c7f-11ef-bd64-fa92a27f4c9c produce-indicator running\n",
      "ae91da94-1432-11ef-ba09-5e783c18dea9 convert-url successful\n",
      "f59a291e-1432-11ef-912e-5e783c18dea9 convert-url failed\n",
      "e8bff528-1439-11ef-bd9d-5e783c18dea9 convert-url successful\n"
     ]
    }
   ],
   "source": [
    "for j in ades.get_jobs():\n",
    "    print(j.id, j.process_id, j.status)"
   ]
  },
  {
   "cell_type": "markdown",
   "metadata": {},
   "source": [
    "Undeploy a process so we can create again later"
   ]
  },
  {
   "cell_type": "code",
   "execution_count": 12,
   "metadata": {},
   "outputs": [],
   "source": [
    "try:\n",
    "    ades.get_process(\"convert-url\").delete()\n",
    "except HTTPError:\n",
    "    print(\"Process not found, no need to undeploy.\")"
   ]
  },
  {
   "cell_type": "markdown",
   "metadata": {},
   "source": [
    "Deploy a process, referencing the CWL file by URL"
   ]
  },
  {
   "cell_type": "code",
   "execution_count": 13,
   "metadata": {},
   "outputs": [
    {
     "name": "stdout",
     "output_type": "stream",
     "text": [
      "convert-url Convert URL\n"
     ]
    }
   ],
   "source": [
    "convert_url_proc = ades.deploy_process(\n",
    "    cwl_url=\"https://raw.githubusercontent.com/EOEPCA/deployment-guide/main/deploy/samples/requests/processing/convert-url-app.cwl\"\n",
    ")\n",
    "print(convert_url_proc.id, convert_url_proc.description)"
   ]
  },
  {
   "cell_type": "markdown",
   "metadata": {},
   "source": [
    "Or update a process by passing the CWL file content directly.\n",
    "Both `Ades.deploy_process()` and `Process.update()` can handle either a URL or a CWL YAML.\n",
    "Here we update the `convert-url` process with a slightly modified description."
   ]
  },
  {
   "cell_type": "code",
   "execution_count": 6,
   "metadata": {},
   "outputs": [
    {
     "name": "stdout",
     "output_type": "stream",
     "text": [
      "convert-url Convert URL YAML\n"
     ]
    }
   ],
   "source": [
    "cwl_yaml = \"\"\"cwlVersion: v1.0\n",
    "$namespaces:\n",
    "  s: https://schema.org/\n",
    "s:softwareVersion: 0.1.2\n",
    "schemas:\n",
    "  - http://schema.org/version/9.0/schemaorg-current-http.rdf\n",
    "$graph:\n",
    "  # Workflow entrypoint\n",
    "  - class: Workflow\n",
    "    id: convert-url\n",
    "    label: convert url app\n",
    "    doc: Convert URL YAML\n",
    "    requirements:\n",
    "      ResourceRequirement:\n",
    "        coresMax: 1\n",
    "        ramMax: 1024\n",
    "    inputs:\n",
    "      fn:\n",
    "        label: the operation to perform\n",
    "        doc: the operation to perform\n",
    "        type: string\n",
    "        default: \"resize\"\n",
    "      url:\n",
    "        label: the image to convert\n",
    "        doc: the image to convert\n",
    "        type: string\n",
    "        default: \"https://eoepca.org/media_portal/images/logo6_med.original.png\"\n",
    "      size:\n",
    "        label: the percentage for a resize operation\n",
    "        doc: the percentage for a resize operation\n",
    "        type: string\n",
    "        default: \"50%\"\n",
    "    outputs:\n",
    "      - id: converted_image\n",
    "        type: Directory\n",
    "        outputSource:\n",
    "          - convert/results\n",
    "    steps:\n",
    "      convert:\n",
    "        run: \"#convert\"\n",
    "        in:\n",
    "          fn: fn\n",
    "          url: url\n",
    "          size: size\n",
    "        out:\n",
    "          - results\n",
    "  # convert.sh - takes input args `--url`\n",
    "  - class: CommandLineTool\n",
    "    id: convert\n",
    "    requirements:\n",
    "      ResourceRequirement:\n",
    "        coresMax: 1\n",
    "        ramMax: 512\n",
    "    hints:\n",
    "      DockerRequirement:\n",
    "        dockerPull: eoepca/convert:latest\n",
    "    baseCommand: convert.sh\n",
    "    inputs:\n",
    "      fn:\n",
    "        type: string\n",
    "        inputBinding:\n",
    "          position: 1\n",
    "      url:\n",
    "        type: string\n",
    "        inputBinding:\n",
    "          position: 2\n",
    "          prefix: --url\n",
    "      size:\n",
    "        type: string\n",
    "        inputBinding:\n",
    "          position: 3\n",
    "    outputs:\n",
    "      results:\n",
    "        type: Directory\n",
    "        outputBinding:\n",
    "          glob: .\n",
    "\"\"\"\n",
    "\n",
    "convert_url_proc.update(cwl_yaml=cwl_yaml)\n",
    "print(convert_url_proc.id, convert_url_proc.description)"
   ]
  },
  {
   "cell_type": "markdown",
   "metadata": {},
   "source": [
    "Let's execute our deployed process"
   ]
  },
  {
   "cell_type": "code",
   "execution_count": 14,
   "metadata": {},
   "outputs": [
    {
     "name": "stdout",
     "output_type": "stream",
     "text": [
      "763abe6e-143b-11ef-a71e-5e783c18dea9 running ZOO-Kernel accepted to run your service!\n"
     ]
    }
   ],
   "source": [
    "convert_url_job = convert_url_proc.execute(\n",
    "    {\n",
    "        \"inputs\": {\n",
    "            \"fn\": \"resize\",\n",
    "            \"url\": \"https://eoepca.org/media_portal/images/logo6_med.original.png\",\n",
    "            \"size\": \"50%\",\n",
    "        }\n",
    "    }\n",
    ")\n",
    "\n",
    "print(convert_url_job.id, convert_url_job.status, convert_url_job.message)"
   ]
  },
  {
   "cell_type": "markdown",
   "metadata": {},
   "source": [
    "... and refresh the job status"
   ]
  },
  {
   "cell_type": "code",
   "execution_count": 16,
   "metadata": {},
   "outputs": [
    {
     "name": "stdout",
     "output_type": "stream",
     "text": [
      "763abe6e-143b-11ef-a71e-5e783c18dea9 running workflow wrapped, creating processing environment\n"
     ]
    }
   ],
   "source": [
    "convert_url_job.refresh()\n",
    "print(convert_url_job.id, convert_url_job.status, convert_url_job.message)"
   ]
  },
  {
   "cell_type": "markdown",
   "metadata": {},
   "source": [
    "or continually poll"
   ]
  },
  {
   "cell_type": "code",
   "execution_count": 19,
   "metadata": {},
   "outputs": [],
   "source": [
    "from pyeodh.ades import AdesJobStatus\n",
    "import time\n",
    "\n",
    "\n",
    "old_status = \"\"\n",
    "old_message = \"\"\n",
    "while convert_url_job.status == AdesJobStatus.RUNNING:\n",
    "    time.sleep(2)\n",
    "    convert_url_job.refresh()\n",
    "    if convert_url_job.status != old_status:\n",
    "        print(\"\\n\")\n",
    "        print(f\"Status: {convert_url_job.status}\")\n",
    "    if convert_url_job.message != old_message:\n",
    "        print(f\"Message: {convert_url_job.message}\")\n",
    "\n",
    "    old_status = convert_url_job.status\n",
    "    old_message = convert_url_job.message"
   ]
  }
 ],
 "metadata": {
  "kernelspec": {
   "display_name": "pyeodh-nIJJSYvj-py3.12",
   "language": "python",
   "name": "python3"
  },
  "language_info": {
   "codemirror_mode": {
    "name": "ipython",
    "version": 3
   },
   "file_extension": ".py",
   "mimetype": "text/x-python",
   "name": "python",
   "nbconvert_exporter": "python",
   "pygments_lexer": "ipython3",
   "version": "3.12.3"
  }
 },
 "nbformat": 4,
 "nbformat_minor": 2
}
