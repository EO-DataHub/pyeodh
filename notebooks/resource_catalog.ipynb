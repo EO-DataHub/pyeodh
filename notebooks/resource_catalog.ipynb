{
 "cells": [
  {
   "cell_type": "markdown",
   "metadata": {},
   "source": [
    "# Resource Catalog\n",
    "\n",
    "This notebook demostrates usage of the EODH resource catalog API using `pyeodh`"
   ]
  },
  {
   "cell_type": "markdown",
   "metadata": {},
   "source": [
    "First we need to create an instance of the `Client`, which is our entrypoint to EODH APIs."
   ]
  },
  {
   "cell_type": "code",
   "execution_count": 1,
   "metadata": {},
   "outputs": [],
   "source": [
    "import pyeodh\n",
    "\n",
    "client = pyeodh.Client(base_url=\"https://test.eodatahub.org.uk\") # Optionally specify a different server"
   ]
  },
  {
   "cell_type": "markdown",
   "metadata": {},
   "source": [
    "Fetch the resource catalog object."
   ]
  },
  {
   "cell_type": "code",
   "execution_count": 2,
   "metadata": {},
   "outputs": [
    {
     "name": "stderr",
     "output_type": "stream",
     "text": [
      "DEBUG: _request_json_raw received {'self': <pyeodh.client.Client object at 0x7fa4502b1190>, 'method': 'GET', 'url': '/stac-fastapi/catalogs', 'headers': None, 'params': None, 'data': None, 'encode': <function _encode_json at 0x7fa45004ea20>}\n",
      "DEBUG: Received not absolute url: /stac-fastapi/catalogs\n",
      "DEBUG: Created url from base: https://test.eodatahub.org.uk/stac-fastapi/catalogs\n",
      "DEBUG: Making request: GET https://test.eodatahub.org.uk/stac-fastapi/catalogs\n",
      "       headers: {}\n",
      "       params: None\n",
      "       body: None\n",
      "DEBUG: Received response 200\n",
      "       headers: {'Content-Type': 'application/json', 'Content-Length': '1151', 'Connection': 'keep-alive', 'Date': 'Fri, 17 May 2024 11:28:39 GMT', 'content-encoding': 'gzip', 'vary': 'Accept-Encoding', 'Strict-Transport-Security': 'max-age=31536000; includeSubDomains', 'X-Cache': 'Miss from cloudfront', 'Via': '1.1 ed5d8b8e3a8c20eaabbb29c087f04c66.cloudfront.net (CloudFront)', 'X-Amz-Cf-Pop': 'VIE50-C2', 'X-Amz-Cf-Id': 'lZOsJUgy1GdmNUv-XgpHjoDtaqZ7iW5VVhUD5UXz1vyeYEAZgmhUcg=='}\n",
      "       content: {\"catalogs\":[{\"type\":\"Catalog\",\"id\":\"default-catalog\",\"stac_version\":\"1.0.0\",\"description\":\"Root catalog\",\"links\":[{\"rel\":\"self\",\"type\":\"application/json\",\"href\":\"https://test.eodatahub.org.uk/stac-fastapi/catalogs/default-catalog\"},{\"rel\":\"parent\",\"type\":\"application/json\",\"href\":\"https://test.eodatahub.org.uk/stac-fastapi/\"},{\"rel\":\"root\",\"type\":\"application/json\",\"href\":\"https://test.eodatahub.org.uk/stac-fastapi/\"},{\"rel\":\"child\",\"href\":\"s3://eodhp-ades-dev/processing-results/093927f4-12ad-11ef-94e9-7e375e8a9c97/093927f4-12ad-11ef-94e9-7e375e8a9c97/collection.json\",\"type\":\"application/json\",\"title\":\"Processing results\"}],\"stac_extensions\":[],\"title\":\"\"},{\"type\":\"Catalog\",\"id\":\"demo-workflows\",\"title\":\"Supported Datasets\",\"description\":\"Catalogue containing supported datasets\",\"stac_version\":\"1.0.0\",\"conformsTo\":[\"http:/www.opengis.net/spec/ogcapi-features-3/1.0/conf/features-filter\",\"http:/www.opengis.net/spec/cql2/1.0/conf/basic-cql2\",\"https://api.stacspec.org/v1.0.0/core\",\"https://api.stacspec.org/v1.0.0/collections\",\"https://api.stacspec.org/v1.0.0/item-search#sort\",\"http:/www.opengis.net/spec/cql2/1.0/conf/cql2-json\",\"http:/www.opengis.net/spec/cql2/1.0/conf/cql2-text\",\"https://api.stacspec.org/v1.0.0-rc.2/item-search#filter\",\"http:/www.opengis.net/spec/ogcapi-features-3/1.0/conf/filter\",\"https://api.stacspec.org/v1.0.0/item-search#query\",\"https://api.stacspec.org/v1.0.0-rc.2/item-search#context\",\"http:/www.opengis.net/spec/ogcapi-features-1/1.0/conf/core\",\"http:/www.opengis.net/spec/ogcapi-features-1/1.0/conf/oas30\",\"http:/www.opengis.net/spec/ogcapi-features-1/1.0/conf/geojson\",\"https://api.stacspec.org/v1.0.0/item-search\",\"https://api.stacspec.org/v1.0.0/item-search#fields\",\"https://api.stacspec.org/v1.0.0/ogcapi-features\"],\"links\":[{\"rel\":\"self\",\"type\":\"application/json\",\"href\":\"https://test.eodatahub.org.uk/stac-fastapi/catalogs/demo-workflows\"},{\"rel\":\"parent\",\"type\":\"application/json\",\"href\":\"https://test.eodatahub.org.uk/stac-fastapi/\"},{\"rel\":\"root\",\"type\":\"application/json\",\"href\":\"https://test.eodatahub.org.uk/stac-fastapi/\"}],\"stac_extensions\":[]},{\"stac_version\":\"1.0.0\",\"type\":\"Catalog\",\"id\":\"earth-search-aws\",\"title\":\"Earth Search by Element 84\",\"description\":\"A STAC API of public datasets on AWS\",\"links\":[{\"rel\":\"self\",\"type\":\"application/json\",\"href\":\"https://test.eodatahub.org.uk/stac-fastapi/catalogs/earth-search-aws\"},{\"rel\":\"parent\",\"type\":\"application/json\",\"href\":\"https://test.eodatahub.org.uk/stac-fastapi/\"},{\"rel\":\"root\",\"type\":\"application/json\",\"href\":\"https://test.eodatahub.org.uk/stac-fastapi/\"},{\"rel\":\"conformance\",\"type\":\"application/json\",\"href\":\"https://test.eodatahub.org.uk/catalogue-data/element84-data/conformance.json\"},{\"rel\":\"data\",\"type\":\"application/json\",\"href\":\"https://test.eodatahub.org.uk/catalogue-data/element84-data/collections.json\"},{\"rel\":\"search\",\"type\":\"application/geo+json\",\"href\":\"https://test.eodatahub.org.uk/catalogue-data/element84-data/search.json\",\"method\":\"GET\"},{\"rel\":\"search\",\"type\":\"application/geo+json\",\"href\":\"https://test.eodatahub.org.uk/catalogue-data/element84-data/search.json\",\"method\":\"POST\"},{\"rel\":\"aggregate\",\"type\":\"application/json\",\"href\":\"https://test.eodatahub.org.uk/catalogue-data/element84-data/aggregate.json\",\"method\":\"GET\"},{\"rel\":\"aggregations\",\"type\":\"application/json\",\"href\":\"https://test.eodatahub.org.uk/catalogue-data/element84-data/aggregations.json\"},{\"rel\":\"service-desc\",\"type\":\"application/vnd.oai.openapi\",\"href\":\"https://test.eodatahub.org.uk/catalogue-data/element84-data/api.json\"},{\"rel\":\"service-doc\",\"type\":\"text/html\",\"href\":\"https://test.eodatahub.org.uk/catalogue-data/element84-data/api.html.json\"},{\"rel\":\"http:/www.opengis.net/def/rel/ogc/1.0/queryables\",\"type\":\"application/schema+json\",\"href\":\"https://test.eodatahub.org.uk/catalogue-data/element84-data/queryables.json\"},{\"rel\":\"server\",\"type\":\"text/html\",\"href\":\"https://test.eodatahub.org.uk/stac-server/\"},{\"rel\":\"child\",\"type\":\"application/geo+json\",\"href\":\"https://test.eodatahub.org.uk/catalogue-data/element84-data/collections/cop-dem-glo-30.json\"},{\"rel\":\"child\",\"type\":\"application/geo+json\",\"href\":\"https://test.eodatahub.org.uk/catalogue-data/element84-data/collections/naip.json\"},{\"rel\":\"child\",\"type\":\"application/geo+json\",\"href\":\"https://test.eodatahub.org.uk/catalogue-data/element84-data/collections/sentinel-2-l2a.json\"},{\"rel\":\"child\",\"type\":\"application/geo+json\",\"href\":\"https://test.eodatahub.org.uk/catalogue-data/element84-data/collections/sentinel-2-l1c.json\"},{\"rel\":\"child\",\"type\":\"application/geo+json\",\"href\":\"https://test.eodatahub.org.uk/catalogue-data/element84-data/collections/cop-dem-glo-90.json\"},{\"rel\":\"child\",\"type\":\"application/geo+json\",\"href\":\"https://test.eodatahub.org.uk/catalogue-data/element84-data/collections/landsat-c2-l2.json\"},{\"rel\":\"child\",\"type\":\"application/geo+json\",\"href\":\"https://test.eodatahub.org.uk/catalogue-data/element84-data/collections/sentinel-1-grd.json\"},{\"rel\":\"child\",\"type\":\"application/geo+json\",\"href\":\"https://test.eodatahub.org.uk/catalogue-data/element84-data/collections/sentinel-2-c1-l2a.json\"}],\"conformsTo\":[\"https://api.stacspec.org/v1.0.0/core\",\"https://api.stacspec.org/v1.0.0/collections\",\"https://api.stacspec.org/v1.0.0/ogcapi-features\",\"https://api.stacspec.org/v1.0.0/item-search\",\"https://api.stacspec.org/v1.0.0/ogcapi-features#fields\",\"https://api.stacspec.org/v1.0.0/ogcapi-features#sort\",\"https://api.stacspec.org/v1.0.0/ogcapi-features#query\",\"https://api.stacspec.org/v1.0.0/item-search#fields\",\"https://api.stacspec.org/v1.0.0/item-search#sort\",\"https://api.stacspec.org/v1.0.0/item-search#query\",\"https://api.stacspec.org/v0.3.0/aggregation\",\"http:/www.opengis.net/spec/ogcapi-features-1/1.0/conf/core\",\"http:/www.opengis.net/spec/ogcapi-features-1/1.0/conf/oas30\",\"http:/www.opengis.net/spec/ogcapi-features-1/1.0/conf/geojson\"],\"stac_extensions\":[]},{\"type\":\"Catalog\",\"id\":\"stac-fastapi\",\"title\":\"Supported Datasets\",\"description\":\"Catalogue containing supported datasets\",\"stac_version\":\"1.0.0\",\"conformsTo\":[\"http:/www.opengis.net/spec/ogcapi-features-3/1.0/conf/features-filter\",\"http:/www.opengis.net/spec/cql2/1.0/conf/basic-cql2\",\"https://api.stacspec.org/v1.0.0/core\",\"https://api.stacspec.org/v1.0.0/collections\",\"https://api.stacspec.org/v1.0.0/item-search#sort\",\"http:/www.opengis.net/spec/cql2/1.0/conf/cql2-json\",\"http:/www.opengis.net/spec/cql2/1.0/conf/cql2-text\",\"https://api.stacspec.org/v1.0.0-rc.2/item-search#filter\",\"http:/www.opengis.net/spec/ogcapi-features-3/1.0/conf/filter\",\"https://api.stacspec.org/v1.0.0/item-search#query\",\"https://api.stacspec.org/v1.0.0-rc.2/item-search#context\",\"http:/www.opengis.net/spec/ogcapi-features-1/1.0/conf/core\",\"http:/www.opengis.net/spec/ogcapi-features-1/1.0/conf/oas30\",\"http:/www.opengis.net/spec/ogcapi-features-1/1.0/conf/geojson\",\"https://api.stacspec.org/v1.0.0/item-search\",\"https://api.stacspec.org/v1.0.0/item-search#fields\",\"https://api.stacspec.org/v1.0.0/ogcapi-features\"],\"links\":[{\"rel\":\"self\",\"type\":\"application/json\",\"href\":\"https://test.eodatahub.org.uk/stac-fastapi/catalogs/stac-fastapi\"},{\"rel\":\"parent\",\"type\":\"application/json\",\"href\":\"https://test.eodatahub.org.uk/stac-fastapi/\"},{\"rel\":\"root\",\"type\":\"application/json\",\"href\":\"https://test.eodatahub.org.uk/stac-fastapi/\"},{\"rel\":\"data\",\"type\":\"application/json\",\"href\":\"https://test.eodatahub.org.uk/catalogue-data/supported/collections.json\"},{\"rel\":\"conformance\",\"type\":\"application/json\",\"title\":\"STAC/WFS3 conformance classes implemented by this server\",\"href\":\"https://test.eodatahub.org.uk/catalogue-data/supported/conformance.json\"},{\"rel\":\"search\",\"type\":\"application/geo+json\",\"title\":\"STAC search\",\"href\":\"https://test.eodatahub.org.uk/catalogue-data/supported/search.json\",\"method\":\"GET\"},{\"rel\":\"search\",\"type\":\"application/geo+json\",\"title\":\"STAC search\",\"href\":\"https://test.eodatahub.org.uk/catalogue-data/supported/search.json\",\"method\":\"POST\"},{\"rel\":\"child\",\"type\":\"application/json\",\"title\":\"cmip6\",\"href\":\"https://test.eodatahub.org.uk/catalogue-data/supported/collections/cmip6.json\"},{\"rel\":\"child\",\"type\":\"application/json\",\"title\":\"cordex\",\"href\":\"https://test.eodatahub.org.uk/catalogue-data/supported/collections/cordex.json\"},{\"rel\":\"child\",\"type\":\"application/json\",\"title\":\"sentinel1\",\"href\":\"https://test.eodatahub.org.uk/catalogue-data/supported/collections/sentinel1.json\"},{\"rel\":\"child\",\"type\":\"application/json\",\"title\":\"sentinel2_ard\",\"href\":\"https://test.eodatahub.org.uk/catalogue-data/supported/collections/sentinel2_ard.json\"},{\"rel\":\"child\",\"type\":\"application/json\",\"title\":\"ukcp\",\"href\":\"https://test.eodatahub.org.uk/catalogue-data/supported/collections/ukcp.json\"},{\"rel\":\"service-desc\",\"type\":\"application/vnd.oai.openapi+json;version=3.0\",\"title\":\"OpenAPI service description\",\"href\":\"https://test.eodatahub.org.uk/catalogue-data/supported/api.json\"},{\"rel\":\"service-doc\",\"type\":\"text/html\",\"title\":\"OpenAPI service documentation\",\"href\":\"https://test.eodatahub.org.uk/catalogue-data/supported/api.html.json\"}],\"stac_extensions\":[]},{\"type\":\"Catalog\",\"id\":\"test-catalog\",\"stac_version\":\"1.0.0\",\"description\":\"Root catalog\",\"links\":[{\"rel\":\"self\",\"type\":\"application/json\",\"href\":\"https://test.eodatahub.org.uk/stac-fastapi/catalogs/test-catalog\"},{\"rel\":\"parent\",\"type\":\"application/json\",\"href\":\"https://test.eodatahub.org.uk/stac-fastapi/\"},{\"rel\":\"root\",\"type\":\"application/json\",\"href\":\"https://test.eodatahub.org.uk/stac-fastapi/\"},{\"rel\":\"child\",\"href\":\"s3://eodhp-ades-dev/processing-results/093927f4-12ad-11ef-94e9-7e375e8a9c97/093927f4-12ad-11ef-94e9-7e375e8a9c97/collection.json\",\"type\":\"application/json\",\"title\":\"Processing results\"}],\"stac_extensions\":[],\"title\":\"\"}],\"links\":[{\"rel\":\"root\",\"type\":\"application/json\",\"href\":\"https://test.eodatahub.org.uk/stac-fastapi/\"},{\"rel\":\"parent\",\"type\":\"application/json\",\"href\":\"https://test.eodatahub.org.uk/stac-fastapi/\"},{\"rel\":\"self\",\"type\":\"application/json\",\"href\":\"https://test.eodatahub.org.uk/stac-fastapi/catalogs\"}]}\n",
      "DEBUG: _request_json_raw received {'self': <pyeodh.client.Client object at 0x7fa4502b1190>, 'method': 'GET', 'url': '/stac-fastapi/catalogs/stac-fastapi', 'headers': None, 'params': None, 'data': None, 'encode': <function _encode_json at 0x7fa45004ea20>}\n",
      "DEBUG: Received not absolute url: /stac-fastapi/catalogs/stac-fastapi\n",
      "DEBUG: Created url from base: https://test.eodatahub.org.uk/stac-fastapi/catalogs/stac-fastapi\n",
      "DEBUG: Making request: GET https://test.eodatahub.org.uk/stac-fastapi/catalogs/stac-fastapi\n",
      "       headers: {}\n",
      "       params: None\n",
      "       body: None\n",
      "DEBUG: Received response 200\n",
      "       headers: {'Content-Type': 'application/json', 'Content-Length': '664', 'Connection': 'keep-alive', 'Date': 'Fri, 17 May 2024 11:28:39 GMT', 'content-encoding': 'gzip', 'vary': 'Accept-Encoding', 'Strict-Transport-Security': 'max-age=31536000; includeSubDomains', 'X-Cache': 'Miss from cloudfront', 'Via': '1.1 ed5d8b8e3a8c20eaabbb29c087f04c66.cloudfront.net (CloudFront)', 'X-Amz-Cf-Pop': 'VIE50-C2', 'X-Amz-Cf-Id': 'E3vK0uR4GBvG446KAag--4p4Qfz6wzVhlbqC3MPcvRnaXKSfTx0Tiw=='}\n",
      "       content: {\"type\":\"Catalog\",\"id\":\"stac-fastapi\",\"title\":\"Supported Datasets\",\"description\":\"Catalogue containing supported datasets\",\"stac_version\":\"1.0.0\",\"conformsTo\":[\"http:/www.opengis.net/spec/ogcapi-features-3/1.0/conf/features-filter\",\"http:/www.opengis.net/spec/cql2/1.0/conf/basic-cql2\",\"https://api.stacspec.org/v1.0.0/core\",\"https://api.stacspec.org/v1.0.0/collections\",\"https://api.stacspec.org/v1.0.0/item-search#sort\",\"http:/www.opengis.net/spec/cql2/1.0/conf/cql2-json\",\"http:/www.opengis.net/spec/cql2/1.0/conf/cql2-text\",\"https://api.stacspec.org/v1.0.0-rc.2/item-search#filter\",\"http:/www.opengis.net/spec/ogcapi-features-3/1.0/conf/filter\",\"https://api.stacspec.org/v1.0.0/item-search#query\",\"https://api.stacspec.org/v1.0.0-rc.2/item-search#context\",\"http:/www.opengis.net/spec/ogcapi-features-1/1.0/conf/core\",\"http:/www.opengis.net/spec/ogcapi-features-1/1.0/conf/oas30\",\"http:/www.opengis.net/spec/ogcapi-features-1/1.0/conf/geojson\",\"https://api.stacspec.org/v1.0.0/item-search\",\"https://api.stacspec.org/v1.0.0/item-search#fields\",\"https://api.stacspec.org/v1.0.0/ogcapi-features\"],\"links\":[{\"rel\":\"self\",\"type\":\"application/json\",\"href\":\"https://test.eodatahub.org.uk/stac-fastapi/catalogs/stac-fastapi\"},{\"rel\":\"parent\",\"type\":\"application/json\",\"href\":\"https://test.eodatahub.org.uk/stac-fastapi/\"},{\"rel\":\"root\",\"type\":\"application/json\",\"href\":\"https://test.eodatahub.org.uk/stac-fastapi/\"},{\"rel\":\"data\",\"type\":\"application/json\",\"href\":\"https://test.eodatahub.org.uk/catalogue-data/supported/collections.json\"},{\"rel\":\"conformance\",\"type\":\"application/json\",\"title\":\"STAC/WFS3 conformance classes implemented by this server\",\"href\":\"https://test.eodatahub.org.uk/catalogue-data/supported/conformance.json\"},{\"rel\":\"search\",\"type\":\"application/geo+json\",\"title\":\"STAC search\",\"href\":\"https://test.eodatahub.org.uk/catalogue-data/supported/search.json\",\"method\":\"GET\"},{\"rel\":\"search\",\"type\":\"application/geo+json\",\"title\":\"STAC search\",\"href\":\"https://test.eodatahub.org.uk/catalogue-data/supported/search.json\",\"method\":\"POST\"},{\"rel\":\"child\",\"type\":\"application/json\",\"title\":\"cmip6\",\"href\":\"https://test.eodatahub.org.uk/catalogue-data/supported/collections/cmip6.json\"},{\"rel\":\"child\",\"type\":\"application/json\",\"title\":\"cordex\",\"href\":\"https://test.eodatahub.org.uk/catalogue-data/supported/collections/cordex.json\"},{\"rel\":\"child\",\"type\":\"application/json\",\"title\":\"sentinel1\",\"href\":\"https://test.eodatahub.org.uk/catalogue-data/supported/collections/sentinel1.json\"},{\"rel\":\"child\",\"type\":\"application/json\",\"title\":\"sentinel2_ard\",\"href\":\"https://test.eodatahub.org.uk/catalogue-data/supported/collections/sentinel2_ard.json\"},{\"rel\":\"child\",\"type\":\"application/json\",\"title\":\"ukcp\",\"href\":\"https://test.eodatahub.org.uk/catalogue-data/supported/collections/ukcp.json\"},{\"rel\":\"service-desc\",\"type\":\"application/vnd.oai.openapi+json;version=3.0\",\"title\":\"OpenAPI service description\",\"href\":\"https://test.eodatahub.org.uk/catalogue-data/supported/api.json\"},{\"rel\":\"service-doc\",\"type\":\"text/html\",\"title\":\"OpenAPI service documentation\",\"href\":\"https://test.eodatahub.org.uk/catalogue-data/supported/api.html.json\"}],\"stac_extensions\":[]}\n"
     ]
    }
   ],
   "source": [
    "# GET /stac-fastapi/catalogs\n",
    "catalogs = client.get_resource_catalogs()\n",
    "rc = client.get_resource_catalog(\"stac-fastapi\")"
   ]
  },
  {
   "cell_type": "markdown",
   "metadata": {},
   "source": [
    "All attributes are mapped to properties, e.g."
   ]
  },
  {
   "cell_type": "code",
   "execution_count": 4,
   "metadata": {},
   "outputs": [
    {
     "name": "stdout",
     "output_type": "stream",
     "text": [
      "id:  default-catalog\n",
      "title:  \n",
      "description:  Root catalog\n",
      "\n",
      "id:  demo-workflows\n",
      "title:  Supported Datasets\n",
      "description:  Catalogue containing supported datasets\n",
      "\n",
      "id:  earth-search-aws\n",
      "title:  Earth Search by Element 84\n",
      "description:  A STAC API of public datasets on AWS\n",
      "\n",
      "id:  stac-fastapi\n",
      "title:  Supported Datasets\n",
      "description:  Catalogue containing supported datasets\n",
      "\n",
      "id:  test-catalog\n",
      "title:  \n",
      "description:  Root catalog\n",
      "\n"
     ]
    }
   ],
   "source": [
    "for cat in catalogs:\n",
    "    print(\"id: \", cat.id)\n",
    "    print(\"title: \", cat.title)\n",
    "    print(\"description: \", cat.description)\n",
    "    print(\"\")"
   ]
  },
  {
   "cell_type": "markdown",
   "metadata": {},
   "source": [
    "API endpoints are wrapped in methods and are structured into classes following the same logic as the API. E.g. to fetch a collection item, I first need to get the collection from the resource catalog."
   ]
  },
  {
   "cell_type": "code",
   "execution_count": 5,
   "metadata": {},
   "outputs": [
    {
     "name": "stderr",
     "output_type": "stream",
     "text": [
      "DEBUG: _request_json_raw received {'self': <pyeodh.client.Client object at 0x7fa4502b1190>, 'method': 'GET', 'url': 'https://test.eodatahub.org.uk/stac-fastapi/catalogs/stac-fastapi/collections/cmip6', 'headers': None, 'params': None, 'data': None, 'encode': <function _encode_json at 0x7fa45004ea20>}\n",
      "DEBUG: Making request: GET https://test.eodatahub.org.uk/stac-fastapi/catalogs/stac-fastapi/collections/cmip6\n",
      "       headers: {}\n",
      "       params: None\n",
      "       body: None\n",
      "DEBUG: Received response 200\n",
      "       headers: {'Content-Type': 'application/json', 'Content-Length': '3395', 'Connection': 'keep-alive', 'Date': 'Fri, 17 May 2024 11:29:25 GMT', 'content-encoding': 'gzip', 'vary': 'Accept-Encoding', 'Strict-Transport-Security': 'max-age=31536000; includeSubDomains', 'X-Cache': 'Miss from cloudfront', 'Via': '1.1 ed5d8b8e3a8c20eaabbb29c087f04c66.cloudfront.net (CloudFront)', 'X-Amz-Cf-Pop': 'VIE50-C2', 'X-Amz-Cf-Id': 'ipHZ3qoNepKhQzEf1cnZgGtRFcXZNWDf_zbuFJ9blfLkpezOUMzcmA=='}\n",
      "       content: {\"type\":\"Collection\",\"stac_version\":\"1.0.0\",\"stac_extensions\":[],\"id\":\"cmip6\",\"title\":\"\",\"description\":\"CMIP6\",\"links\":[{\"rel\":\"self\",\"type\":\"application/json\",\"href\":\"https://test.eodatahub.org.uk/stac-fastapi/catalogs/stac-fastapi/collections/cmip6\"},{\"rel\":\"parent\",\"type\":\"application/json\",\"href\":\"https://test.eodatahub.org.uk/stac-fastapi/\"},{\"rel\":\"items\",\"type\":\"application/geo+json\",\"href\":\"https://test.eodatahub.org.uk/stac-fastapi/catalogs/stac-fastapi/collections/cmip6/items\"},{\"rel\":\"root\",\"type\":\"application/json\",\"href\":\"https://test.eodatahub.org.uk/stac-fastapi/\"}],\"keywords\":[],\"license\":\"cmip6\",\"providers\":[],\"extent\":{\"spatial\":{\"bbox\":[[-180.0,-90.0,179.99999991618097,89.99999995809048]]},\"temporal\":{\"interval\":[[\"1850-01-01T00:00:00.000Z\",\"4114-12-16T12:00:00.000Z\"]]}},\"summaries\":{\"experiment_title\":[\"SSP-based RCP scenario with high radiative forcing by the end of century. Following approximately RCP8.5 global forcing pathway with SSP5 socioeconomic conditions. Concentration-driven.\",\"SSP-based RCP scenario with medium radiative forcing by the end of the century.  Following approximately RCP4.5 global forcing pathway with SSP2 socioeconomic conditions. Radiative forcing reaches a level of 4.5 W/m2 in 2100. Concentration-driven.\",\"Simulation of recent past (1850 to 2014). Impose changing conditions (consistent with observations). Should be initialised from a point early enough in the pre-industrial control run to ensure that the end of all the perturbed runs branching from the end of this historical run end before the end of the control. Only one ensemble member is requested but modelling groups are strongly encouraged to submit at least three ensemble members of their CMIP historical simulation. \",\"all-forcing simulation of the recent past\",\"all-forcing simulation of the recent past                                                                               \",\"historical\",\"low-end scenario reaching 1.9 W m-2, based on SSP1\",\"update of RCP2.6 based on SSP1\",\"update of RCP4.5 based on SSP2\",\"update of RCP8.5 based on SSP5\"],\"data_specs_version\":[\"01.00.21\",\"01.00.23\",\"01.00.27\",\"01.00.28\",\"01.00.29\",\"01.00.30\",\"01.00.31\",\"01.00.32\",\"01.00.33\"],\"variable_units\":[\"%\",\"1\",\"K\",\"Pa\",\"W m-2\",\"kg m-2\",\"kg m-2 s-1\",\"m s-1\"],\"table_id\":[\"3hr\",\"Amon\",\"CF3hr\",\"E3hr\",\"day\"],\"institution_id\":[\"AS-RCEC\",\"AWI\",\"BCC\",\"CAMS\",\"CAS\",\"CCCR-IITM\",\"CCCma\",\"CMCC\",\"CNRM-CERFACS\",\"CSIRO\",\"CSIRO-ARCCSS\",\"DKRZ\",\"E3SM-Project\",\"EC-Earth-Consortium\",\"FIO-QLNM\",\"HAMMOZ-Consortium\",\"INM\",\"IPSL\",\"KIOST\",\"MIROC\",\"MOHC\",\"MPI-M\",\"MRI\",\"NASA-GISS\",\"NCAR\",\"NCC\",\"NIMS-KMA\",\"NOAA-GFDL\",\"NUIST\",\"SNU\",\"THU\",\"UA\"],\"frequency\":[\"3hr\",\"3hrPt\",\"day\",\"mon\",\"monC\"],\"variant_label\":[\"r1i1000p1f2\",\"r1i1p1f1\",\"r1i1p1f2\",\"r1i1p1f3\",\"r1i1p2f1\"],\"variable_id\":[\"clt\",\"hurs\",\"huss\",\"pr\",\"prsn\",\"psl\",\"rlds\",\"rlus\",\"rsds\",\"rss\",\"rsus\",\"sfcWind\",\"snw\",\"tas\",\"tasmax\",\"tasmin\",\"uas\",\"vas\"],\"activity_id\":[\"CMIP\",\"ScenarioMIP\"],\"var_id\":[],\"sub_experiment_id\":[\"none\"],\"mip_era\":[\"CMIP6\"],\"physics_index\":[],\"experiment_id\":[\"historical\",\"ssp119\",\"ssp126\",\"ssp245\",\"ssp585\"],\"variable_long_name\":[\"Daily Maximum Near-Surface Air Temperature\",\"Daily Minimum Near-Surface Air Temperature\",\"Daily-Mean Near-Surface Wind Speed\",\"Eastward Near-Surface Wind\",\"Eastward Near-Surface Wind                            \",\"Eastward Near-Surface Wind Speed\",\"Near-Surface Air Temperature\",\"Near-Surface Air Temperature                          \",\"Near-Surface Relative Humidity\",\"Near-Surface Relative Humidity                        \",\"Near-Surface Specific Humidity\",\"Near-Surface Specific Humidity                        \",\"Near-Surface Wind Speed\",\"Net Shortwave Surface Radiation\",\"Northward Near-Surface Wind\",\"Northward Near-Surface Wind                           \",\"Northward Near-Surface Wind Speed\",\"Precipitation\",\"Precipitation                                         \",\"Sea Level Pressure\",\"Sea Level Pressure                                    \",\"Snowfall Flux\",\"Snowfall Flux                                         \",\"Surface Downwelling Longwave Radiation\",\"Surface Downwelling Shortwave Radiation\",\"Surface Snow Amount\",\"Surface Upwelling Longwave Radiation\",\"Surface Upwelling Shortwave Radiation\",\"Total Cloud Cover Percentage\",\"Total Cloud Fraction\"],\"source_type\":[\"AER AOGCM CHEM\",\"AER CHEM BGC\",\"AGCM\",\"AOGCM\",\"AOGCM AER\",\"AOGCM AER BGC\",\"AOGCM AER BGC CHEM\",\"AOGCM AER CHEM\",\"AOGCM AER CHEM BGC\",\"AOGCM BGC\",\"AOGCM BGC AER\",\"AOGCM BGC AER CHEM\",\"AOGCM BGC CHEM AER\"],\"cf_standard_name\":[\"air_pressure_at_mean_sea_level\",\"air_pressure_at_sea_level\",\"air_temperature\",\"cloud_area_fraction\",\"eastward_wind\",\"northward_wind\",\"precipitation_flux\",\"relative_humidity\",\"snowfall_flux\",\"specific_humidity\",\"surface_downwelling_longwave_flux_in_air\",\"surface_downwelling_shortwave_flux_in_air\",\"surface_net_downward_shortwave_flux\",\"surface_snow_amount\",\"surface_upwelling_longwave_flux_in_air\",\"surface_upwelling_shortwave_flux_in_air\",\"wind_speed\"],\"version\":[],\"realization_index\":[],\"instance_id\":[\"CMIP6.CMIP.AS-RCEC.TaiESM1.historical.r1i1p1f1.3hr.clt.gn.v20201013\",\"CMIP6.CMIP.AS-RCEC.TaiESM1.historical.r1i1p1f1.3hr.huss.gn.v20201013\",\"CMIP6.CMIP.AS-RCEC.TaiESM1.historical.r1i1p1f1.3hr.pr.gn.v20201013\",\"CMIP6.CMIP.AS-RCEC.TaiESM1.historical.r1i1p1f1.3hr.prsn.gn.v20201013\",\"CMIP6.CMIP.AS-RCEC.TaiESM1.historical.r1i1p1f1.3hr.rlds.gn.v20201013\",\"CMIP6.CMIP.AS-RCEC.TaiESM1.historical.r1i1p1f1.3hr.rlus.gn.v20201013\",\"CMIP6.CMIP.AS-RCEC.TaiESM1.historical.r1i1p1f1.3hr.rsds.gn.v20201013\",\"CMIP6.CMIP.AS-RCEC.TaiESM1.historical.r1i1p1f1.3hr.rsus.gn.v20201013\",\"CMIP6.CMIP.AS-RCEC.TaiESM1.historical.r1i1p1f1.3hr.tas.gn.v20201014\",\"CMIP6.CMIP.AS-RCEC.TaiESM1.historical.r1i1p1f1.Amon.clt.gn.v20200623\",\"CMIP6.CMIP.AS-RCEC.TaiESM1.historical.r1i1p1f1.Amon.huss.gn.v20200623\",\"CMIP6.CMIP.AS-RCEC.TaiESM1.historical.r1i1p1f1.Amon.pr.gn.v20200623\",\"CMIP6.CMIP.AS-RCEC.TaiESM1.historical.r1i1p1f1.Amon.prsn.gn.v20200623\",\"CMIP6.CMIP.AS-RCEC.TaiESM1.historical.r1i1p1f1.Amon.psl.gn.v20200623\",\"CMIP6.CMIP.AS-RCEC.TaiESM1.historical.r1i1p1f1.Amon.rlds.gn.v20200623\",\"CMIP6.CMIP.AS-RCEC.TaiESM1.historical.r1i1p1f1.Amon.rlus.gn.v20200623\",\"CMIP6.CMIP.AS-RCEC.TaiESM1.historical.r1i1p1f1.Amon.rsds.gn.v20200623\",\"CMIP6.CMIP.AS-RCEC.TaiESM1.historical.r1i1p1f1.Amon.rsus.gn.v20200623\",\"CMIP6.CMIP.AS-RCEC.TaiESM1.historical.r1i1p1f1.Amon.sfcWind.gn.v20200623\",\"CMIP6.CMIP.AS-RCEC.TaiESM1.historical.r1i1p1f1.Amon.tas.gn.v20200623\",\"CMIP6.CMIP.AS-RCEC.TaiESM1.historical.r1i1p1f1.day.clt.gn.v20200626\",\"CMIP6.CMIP.AS-RCEC.TaiESM1.historical.r1i1p1f1.day.hurs.gn.v20200626\",\"CMIP6.CMIP.AS-RCEC.TaiESM1.historical.r1i1p1f1.day.huss.gn.v20200626\",\"CMIP6.CMIP.AS-RCEC.TaiESM1.historical.r1i1p1f1.day.pr.gn.v20200626\",\"CMIP6.CMIP.AS-RCEC.TaiESM1.historical.r1i1p1f1.day.psl.gn.v20200626\",\"CMIP6.CMIP.AS-RCEC.TaiESM1.historical.r1i1p1f1.day.rlds.gn.v20200626\",\"CMIP6.CMIP.AS-RCEC.TaiESM1.historical.r1i1p1f1.day.rlus.gn.v20200626\",\"CMIP6.CMIP.AS-RCEC.TaiESM1.historical.r1i1p1f1.day.rsds.gn.v20200626\",\"CMIP6.CMIP.AS-RCEC.TaiESM1.historical.r1i1p1f1.day.rsus.gn.v20200626\",\"CMIP6.CMIP.AS-RCEC.TaiESM1.historical.r1i1p1f1.day.sfcWind.gn.v20200626\",\"CMIP6.CMIP.AS-RCEC.TaiESM1.historical.r1i1p1f1.day.tas.gn.v20200626\",\"CMIP6.CMIP.AS-RCEC.TaiESM1.historical.r1i1p1f1.day.tasmax.gn.v20210517\",\"CMIP6.CMIP.AS-RCEC.TaiESM1.historical.r1i1p1f1.day.tasmin.gn.v20210517\",\"CMIP6.CMIP.AWI.AWI-CM-1-1-MR.historical.r1i1p1f1.3hr.clt.gn.v20181218\",\"CMIP6.CMIP.AWI.AWI-CM-1-1-MR.historical.r1i1p1f1.3hr.pr.gn.v20181218\",\"CMIP6.CMIP.AWI.AWI-CM-1-1-MR.historical.r1i1p1f1.3hr.prsn.gn.v20181218\",\"CMIP6.CMIP.AWI.AWI-CM-1-1-MR.historical.r1i1p1f1.3hr.rlds.gn.v20181218\",\"CMIP6.CMIP.AWI.AWI-CM-1-1-MR.historical.r1i1p1f1.3hr.rlus.gn.v20181218\",\"CMIP6.CMIP.AWI.AWI-CM-1-1-MR.historical.r1i1p1f1.3hr.rsds.gn.v20181218\",\"CMIP6.CMIP.AWI.AWI-CM-1-1-MR.historical.r1i1p1f1.3hr.rsus.gn.v20181218\",\"CMIP6.CMIP.AWI.AWI-CM-1-1-MR.historical.r1i1p1f1.3hr.tas.gn.v20181218\",\"CMIP6.CMIP.AWI.AWI-CM-1-1-MR.historical.r1i1p1f1.3hr.uas.gn.v20181218\",\"CMIP6.CMIP.AWI.AWI-CM-1-1-MR.historical.r1i1p1f1.3hr.vas.gn.v20181218\",\"CMIP6.CMIP.AWI.AWI-CM-1-1-MR.historical.r1i1p1f1.Amon.clt.gn.v20200511\",\"CMIP6.CMIP.AWI.AWI-CM-1-1-MR.historical.r1i1p1f1.Amon.huss.gn.v20200511\",\"CMIP6.CMIP.AWI.AWI-CM-1-1-MR.historical.r1i1p1f1.Amon.pr.gn.v20200511\",\"CMIP6.CMIP.AWI.AWI-CM-1-1-MR.historical.r1i1p1f1.Amon.prsn.gn.v20200511\",\"CMIP6.CMIP.AWI.AWI-CM-1-1-MR.historical.r1i1p1f1.Amon.psl.gn.v20181218\",\"CMIP6.CMIP.AWI.AWI-CM-1-1-MR.historical.r1i1p1f1.Amon.rlds.gn.v20200511\",\"CMIP6.CMIP.AWI.AWI-CM-1-1-MR.historical.r1i1p1f1.Amon.rlus.gn.v20200511\",\"CMIP6.CMIP.AWI.AWI-CM-1-1-MR.historical.r1i1p1f1.Amon.rsds.gn.v20200511\",\"CMIP6.CMIP.AWI.AWI-CM-1-1-MR.historical.r1i1p1f1.Amon.rsus.gn.v20200511\",\"CMIP6.CMIP.AWI.AWI-CM-1-1-MR.historical.r1i1p1f1.Amon.sfcWind.gn.v20200511\",\"CMIP6.CMIP.AWI.AWI-CM-1-1-MR.historical.r1i1p1f1.Amon.tas.gn.v20200720\",\"CMIP6.CMIP.AWI.AWI-CM-1-1-MR.historical.r1i1p1f1.Amon.tasmax.gn.v20181218\",\"CMIP6.CMIP.AWI.AWI-CM-1-1-MR.historical.r1i1p1f1.Amon.tasmin.gn.v20181218\",\"CMIP6.CMIP.AWI.AWI-CM-1-1-MR.historical.r1i1p1f1.Amon.uas.gn.v20200511\",\"CMIP6.CMIP.AWI.AWI-CM-1-1-MR.historical.r1i1p1f1.Amon.vas.gn.v20200511\",\"CMIP6.CMIP.AWI.AWI-CM-1-1-MR.historical.r1i1p1f1.day.snw.gn.v20181218\",\"CMIP6.CMIP.AWI.AWI-CM-1-1-MR.historical.r1i1p1f1.day.tas.gn.v20181218\",\"CMIP6.CMIP.AWI.AWI-CM-1-1-MR.historical.r1i1p1f1.day.tasmax.gn.v20181218\",\"CMIP6.CMIP.AWI.AWI-CM-1-1-MR.historical.r1i1p1f1.day.tasmin.gn.v20181218\",\"CMIP6.CMIP.AWI.AWI-CM-1-1-MR.historical.r1i1p1f1.day.uas.gn.v20181218\",\"CMIP6.CMIP.AWI.AWI-CM-1-1-MR.historical.r1i1p1f1.day.vas.gn.v20181218\",\"CMIP6.CMIP.AWI.AWI-ESM-1-1-LR.historical.r1i1p1f1.3hr.clt.gn.v20200212\",\"CMIP6.CMIP.AWI.AWI-ESM-1-1-LR.historical.r1i1p1f1.3hr.huss.gn.v20200212\",\"CMIP6.CMIP.AWI.AWI-ESM-1-1-LR.historical.r1i1p1f1.3hr.pr.gn.v20200212\",\"CMIP6.CMIP.AWI.AWI-ESM-1-1-LR.historical.r1i1p1f1.3hr.prsn.gn.v20200212\",\"CMIP6.CMIP.AWI.AWI-ESM-1-1-LR.historical.r1i1p1f1.3hr.rlds.gn.v20200212\",\"CMIP6.CMIP.AWI.AWI-ESM-1-1-LR.historical.r1i1p1f1.3hr.rlus.gn.v20200212\",\"CMIP6.CMIP.AWI.AWI-ESM-1-1-LR.historical.r1i1p1f1.3hr.rsds.gn.v20200212\",\"CMIP6.CMIP.AWI.AWI-ESM-1-1-LR.historical.r1i1p1f1.3hr.rsus.gn.v20200212\",\"CMIP6.CMIP.AWI.AWI-ESM-1-1-LR.historical.r1i1p1f1.3hr.tas.gn.v20200212\",\"CMIP6.CMIP.AWI.AWI-ESM-1-1-LR.historical.r1i1p1f1.3hr.uas.gn.v20200212\",\"CMIP6.CMIP.AWI.AWI-ESM-1-1-LR.historical.r1i1p1f1.3hr.vas.gn.v20200212\",\"CMIP6.CMIP.AWI.AWI-ESM-1-1-LR.historical.r1i1p1f1.Amon.clt.gn.v20200212\",\"CMIP6.CMIP.AWI.AWI-ESM-1-1-LR.historical.r1i1p1f1.Amon.hurs.gn.v20200212\",\"CMIP6.CMIP.AWI.AWI-ESM-1-1-LR.historical.r1i1p1f1.Amon.huss.gn.v20200212\",\"CMIP6.CMIP.AWI.AWI-ESM-1-1-LR.historical.r1i1p1f1.Amon.pr.gn.v20200212\",\"CMIP6.CMIP.AWI.AWI-ESM-1-1-LR.historical.r1i1p1f1.Amon.prsn.gn.v20200212\",\"CMIP6.CMIP.AWI.AWI-ESM-1-1-LR.historical.r1i1p1f1.Amon.psl.gn.v20200212\",\"CMIP6.CMIP.AWI.AWI-ESM-1-1-LR.historical.r1i1p1f1.Amon.rlds.gn.v20200212\",\"CMIP6.CMIP.AWI.AWI-ESM-1-1-LR.historical.r1i1p1f1.Amon.rlus.gn.v20200212\",\"CMIP6.CMIP.AWI.AWI-ESM-1-1-LR.historical.r1i1p1f1.Amon.rsds.gn.v20200212\",\"CMIP6.CMIP.AWI.AWI-ESM-1-1-LR.historical.r1i1p1f1.Amon.rsus.gn.v20200212\",\"CMIP6.CMIP.AWI.AWI-ESM-1-1-LR.historical.r1i1p1f1.Amon.sfcWind.gn.v20200212\",\"CMIP6.CMIP.AWI.AWI-ESM-1-1-LR.historical.r1i1p1f1.Amon.tas.gn.v20200212\",\"CMIP6.CMIP.AWI.AWI-ESM-1-1-LR.historical.r1i1p1f1.Amon.tasmax.gn.v20200212\",\"CMIP6.CMIP.AWI.AWI-ESM-1-1-LR.historical.r1i1p1f1.Amon.tasmin.gn.v20200212\",\"CMIP6.CMIP.AWI.AWI-ESM-1-1-LR.historical.r1i1p1f1.Amon.uas.gn.v20200212\",\"CMIP6.CMIP.AWI.AWI-ESM-1-1-LR.historical.r1i1p1f1.Amon.vas.gn.v20200212\",\"CMIP6.CMIP.AWI.AWI-ESM-1-1-LR.historical.r1i1p1f1.CF3hr.psl.gn.v20200212\",\"CMIP6.CMIP.AWI.AWI-ESM-1-1-LR.historical.r1i1p1f1.day.clt.gn.v20200212\",\"CMIP6.CMIP.AWI.AWI-ESM-1-1-LR.historical.r1i1p1f1.day.hurs.gn.v20200212\",\"CMIP6.CMIP.AWI.AWI-ESM-1-1-LR.historical.r1i1p1f1.day.huss.gn.v20200212\",\"CMIP6.CMIP.AWI.AWI-ESM-1-1-LR.historical.r1i1p1f1.day.pr.gn.v20200212\",\"CMIP6.CMIP.AWI.AWI-ESM-1-1-LR.historical.r1i1p1f1.day.prsn.gn.v20200212\",\"CMIP6.CMIP.AWI.AWI-ESM-1-1-LR.historical.r1i1p1f1.day.psl.gn.v20200212\",\"CMIP6.CMIP.AWI.AWI-ESM-1-1-LR.historical.r1i1p1f1.day.rlds.gn.v20200212\",\"CMIP6.CMIP.AWI.AWI-ESM-1-1-LR.historical.r1i1p1f1.day.rlus.gn.v20200212\"],\"grid\":[\"All grid attributes are set for the native grid and based on information from attribute source.\",\"CESM f09_g16 resolution\",\"LMDZ grid\",\"Native N216 grid (U points); 432 x 324 longitude/latitude\",\"Native N216 grid (V points); 432 x 325 longitude/latitude\",\"Native N216 grid; 432 x 324 longitude/latitude\",\"Native N96 grid (U points); 192 x 144 longitude/latitude\",\"Native N96 grid (V points); 192 x 145 longitude/latitude\",\"Native N96 grid; 192 x 144 longitude/latitude\",\"ORCA12T1279\",\"T106\",\"T159L62\",\"T159L62-ORCA1L75\",\"T255L91\",\"T255L91-ORCA1L75\",\"T42\",\"T63\",\"T63L49 native atmosphere, T63 Linear Gaussian Grid; 128 x 64 longitude/latitude; 49 levels; top level 1 hPa\",\"atmos data regridded from Cubed-sphere (c48) to 94X192\",\"atmos data regridded from Cubed-sphere (c96) to 180,288; interpolation method: conserve_order1\",\"atmos data regridded from Cubed-sphere (c96) to 180,288; interpolation method: conserve_order2\",\"atmospheric grid: 144x90, ocean grid: 288x180\",\"atmospheric grid: 144x90, ocean grid: 360x180\",\"data regridded to a 359 gaussian grid (360x720 latlon) from a native atmosphere T359l reduced gaussian grid\",\"data regridded to a CMIP6 standard 1x1 degree lonxlat grid from the native grid using an area-average preserving method.\",\"data regridded to a T127 gaussian grid (128x256 latlon) from a native atmosphere T127l reduced gaussian grid\",\"finite-volume grid with 0.9x1.25 degree lat/lon resolution\",\"finite-volume grid with 1.9x2.5 degree lat/lon resolution\",\"gn\",\"gs1x1\",\"gs2x1.5\",\"gs2x2\",\"land data regridded from Cubed-sphere (c96) to 180,288; interpolation method: conserve_order1\",\"lat-lon\",\"native 0.9x1.25 finite volume grid (192x288 latxlon)\",\"native 1.9x2.5 finite volume grid (96x144 latxlon)\",\"native atmosphere N96 grid (144x192 latxlon)\",\"native atmosphere N96 grid (145x192 latxlon)\",\"native atmosphere T42 Gaussian grid\",\"native atmosphere T85 Gaussian grid\",\"native atmosphere TL159 gaussian grid (160x320 latxlon)\",\"native atmosphere area-weighted latxlon grid (80x180 latxlon)\",\"native atmosphere regular grid\",\"native atmosphere regular grid (128x256 latxlon)\",\"native atmosphere regular grid (192x288 latxlon)\"],\"grid_label\":[\"gn\",\"gr\",\"gr1\"],\"initialisation_index\":[],\"source_id\":[\"ACCESS-CM2\",\"ACCESS-ESM1-5\",\"AWI-CM-1-1-MR\",\"AWI-ESM-1-1-LR\",\"BCC-CSM2-MR\",\"BCC-ESM1\",\"CAMS-CSM1-0\",\"CAS-ESM2-0\",\"CESM2\",\"CESM2-FV2\",\"CESM2-WACCM\",\"CESM2-WACCM-FV2\",\"CIESM\",\"CMCC-CM2-HR4\",\"CMCC-CM2-SR5\",\"CMCC-ESM2\",\"CNRM-CM6-1\",\"CNRM-CM6-1-HR\",\"CNRM-ESM2-1\",\"CanESM5\",\"CanESM5-CanOE\",\"E3SM-1-0\",\"E3SM-1-1\",\"E3SM-1-1-ECA\",\"EC-Earth3\",\"EC-Earth3-AerChem\",\"EC-Earth3-CC\",\"EC-Earth3-Veg\",\"EC-Earth3-Veg-LR\",\"EC-Earth3P-VHR\",\"FGOALS-f3-L\",\"FGOALS-g3\",\"FIO-ESM-2-0\",\"GFDL-CM4\",\"GFDL-ESM4\",\"GISS-E2-1-G\",\"GISS-E2-1-G-CC\",\"GISS-E2-1-H\",\"GISS-E2-2-G\",\"GISS-E2-2-H\",\"HadGEM3-GC31-LL\",\"HadGEM3-GC31-MM\",\"ICON-ESM-LR\",\"IITM-ESM\",\"INM-CM4-8\",\"INM-CM5-0\",\"IPSL-CM5A2-INCA\",\"IPSL-CM6A-LR\",\"IPSL-CM6A-LR-INCA\",\"KACE-1-0-G\",\"KIOST-ESM\",\"MCM-UA-1-0\",\"MIROC-ES2H\",\"MIROC-ES2L\",\"MIROC6\",\"MPI-ESM-1-2-HAM\",\"MPI-ESM1-2-HR\",\"MPI-ESM1-2-LR\",\"MRI-ESM2-0\",\"NESM3\",\"NorCPM1\",\"NorESM2-LM\",\"NorESM2-MM\",\"SAM0-UNICON\",\"TaiESM1\",\"UKESM1-0-LL\",\"UKESM1-1-LL\"],\"forcing_index\":[]},\"assets\":{}}\n",
      "DEBUG: _request_json_raw received {'self': <pyeodh.client.Client object at 0x7fa4502b1190>, 'method': 'GET', 'url': 'https://test.eodatahub.org.uk/stac-fastapi/catalogs/stac-fastapi/collections/cmip6/items/CMIP6.ScenarioMIP.THU.CIESM.ssp585.r1i1p1f1.Amon.rsus.gr.v20200806', 'headers': None, 'params': None, 'data': None, 'encode': <function _encode_json at 0x7fa45004ea20>}\n",
      "DEBUG: Making request: GET https://test.eodatahub.org.uk/stac-fastapi/catalogs/stac-fastapi/collections/cmip6/items/CMIP6.ScenarioMIP.THU.CIESM.ssp585.r1i1p1f1.Amon.rsus.gr.v20200806\n",
      "       headers: {}\n",
      "       params: None\n",
      "       body: None\n",
      "DEBUG: Received response 405\n",
      "       headers: {'Content-Type': 'application/json', 'Content-Length': '31', 'Connection': 'keep-alive', 'Date': 'Fri, 17 May 2024 11:29:25 GMT', 'allow': 'PUT', 'Strict-Transport-Security': 'max-age=31536000; includeSubDomains', 'X-Cache': 'Error from cloudfront', 'Via': '1.1 ed5d8b8e3a8c20eaabbb29c087f04c66.cloudfront.net (CloudFront)', 'X-Amz-Cf-Pop': 'VIE50-C2', 'X-Amz-Cf-Id': 'xGKRRnLUYFFAmdTGajxsSxf6FXBJF_Skh13lX04dQyzOLbQXhI2MTA=='}\n",
      "       content: {\"detail\":\"Method Not Allowed\"}\n"
     ]
    },
    {
     "ename": "HTTPError",
     "evalue": "405 Client Error: Method Not Allowed for url: https://test.eodatahub.org.uk/stac-fastapi/catalogs/stac-fastapi/collections/cmip6/items/CMIP6.ScenarioMIP.THU.CIESM.ssp585.r1i1p1f1.Amon.rsus.gr.v20200806",
     "output_type": "error",
     "traceback": [
      "\u001b[0;31m---------------------------------------------------------------------------\u001b[0m",
      "\u001b[0;31mHTTPError\u001b[0m                                 Traceback (most recent call last)",
      "Cell \u001b[0;32mIn[5], line 3\u001b[0m\n\u001b[1;32m      1\u001b[0m \u001b[38;5;66;03m# GET /stac-fastapi/collections/{collection_id}/items/{item_id}\u001b[39;00m\n\u001b[1;32m      2\u001b[0m cmip6 \u001b[38;5;241m=\u001b[39m rc\u001b[38;5;241m.\u001b[39mget_collection(\u001b[38;5;124m\"\u001b[39m\u001b[38;5;124mcmip6\u001b[39m\u001b[38;5;124m\"\u001b[39m)\n\u001b[0;32m----> 3\u001b[0m item \u001b[38;5;241m=\u001b[39m \u001b[43mcmip6\u001b[49m\u001b[38;5;241;43m.\u001b[39;49m\u001b[43mget_item\u001b[49m\u001b[43m(\u001b[49m\u001b[38;5;124;43m\"\u001b[39;49m\u001b[38;5;124;43mCMIP6.ScenarioMIP.THU.CIESM.ssp585.r1i1p1f1.Amon.rsus.gr.v20200806\u001b[39;49m\u001b[38;5;124;43m\"\u001b[39;49m\u001b[43m)\u001b[49m\n\u001b[1;32m      4\u001b[0m \u001b[38;5;28mprint\u001b[39m(item\u001b[38;5;241m.\u001b[39mid)\n",
      "File \u001b[0;32m~/software/projects/eodh/pyeodh/pyeodh/resource_catalog.py:120\u001b[0m, in \u001b[0;36mCollection.get_item\u001b[0;34m(self, item_id)\u001b[0m\n\u001b[1;32m    110\u001b[0m \u001b[38;5;250m\u001b[39m\u001b[38;5;124;03m\"\"\"Fetches a collection item.\u001b[39;00m\n\u001b[1;32m    111\u001b[0m \u001b[38;5;124;03mCalls: GET /collections/{collection_id}/items/{item_id}\u001b[39;00m\n\u001b[1;32m    112\u001b[0m \n\u001b[0;32m   (...)\u001b[0m\n\u001b[1;32m    117\u001b[0m \u001b[38;5;124;03m    Item: Item for given ID\u001b[39;00m\n\u001b[1;32m    118\u001b[0m \u001b[38;5;124;03m\"\"\"\u001b[39;00m\n\u001b[1;32m    119\u001b[0m url \u001b[38;5;241m=\u001b[39m join_url(\u001b[38;5;28mself\u001b[39m\u001b[38;5;241m.\u001b[39mitems_href, item_id)\n\u001b[0;32m--> 120\u001b[0m headers, response \u001b[38;5;241m=\u001b[39m \u001b[38;5;28;43mself\u001b[39;49m\u001b[38;5;241;43m.\u001b[39;49m\u001b[43m_client\u001b[49m\u001b[38;5;241;43m.\u001b[39;49m\u001b[43m_request_json\u001b[49m\u001b[43m(\u001b[49m\u001b[38;5;124;43m\"\u001b[39;49m\u001b[38;5;124;43mGET\u001b[39;49m\u001b[38;5;124;43m\"\u001b[39;49m\u001b[43m,\u001b[49m\u001b[43m \u001b[49m\u001b[43murl\u001b[49m\u001b[43m)\u001b[49m\n\u001b[1;32m    122\u001b[0m \u001b[38;5;28;01mreturn\u001b[39;00m Item(\u001b[38;5;28mself\u001b[39m\u001b[38;5;241m.\u001b[39m_client, headers, response)\n",
      "File \u001b[0;32m~/software/projects/eodh/pyeodh/pyeodh/client.py:93\u001b[0m, in \u001b[0;36mClient._request_json\u001b[0;34m(self, method, url, headers, params, data, encode)\u001b[0m\n\u001b[1;32m     84\u001b[0m \u001b[38;5;28;01mdef\u001b[39;00m \u001b[38;5;21m_request_json\u001b[39m(\n\u001b[1;32m     85\u001b[0m     \u001b[38;5;28mself\u001b[39m,\n\u001b[1;32m     86\u001b[0m     method: RequestMethod,\n\u001b[0;32m   (...)\u001b[0m\n\u001b[1;32m     91\u001b[0m     encode: Callable[[Any], \u001b[38;5;28mtuple\u001b[39m[\u001b[38;5;28mstr\u001b[39m, Any]] \u001b[38;5;241m=\u001b[39m _encode_json,\n\u001b[1;32m     92\u001b[0m ) \u001b[38;5;241m-\u001b[39m\u001b[38;5;241m>\u001b[39m \u001b[38;5;28mtuple\u001b[39m[Headers, Any]:\n\u001b[0;32m---> 93\u001b[0m     status, resp_headers, resp_data \u001b[38;5;241m=\u001b[39m \u001b[38;5;28;43mself\u001b[39;49m\u001b[38;5;241;43m.\u001b[39;49m\u001b[43m_request_json_raw\u001b[49m\u001b[43m(\u001b[49m\n\u001b[1;32m     94\u001b[0m \u001b[43m        \u001b[49m\u001b[43mmethod\u001b[49m\u001b[43m,\u001b[49m\u001b[43m \u001b[49m\u001b[43murl\u001b[49m\u001b[43m,\u001b[49m\u001b[43m \u001b[49m\u001b[43mheaders\u001b[49m\u001b[43m,\u001b[49m\u001b[43m \u001b[49m\u001b[43mparams\u001b[49m\u001b[43m,\u001b[49m\u001b[43m \u001b[49m\u001b[43mdata\u001b[49m\u001b[43m,\u001b[49m\u001b[43m \u001b[49m\u001b[43mencode\u001b[49m\n\u001b[1;32m     95\u001b[0m \u001b[43m    \u001b[49m\u001b[43m)\u001b[49m\n\u001b[1;32m     97\u001b[0m     \u001b[38;5;28;01mif\u001b[39;00m \u001b[38;5;129;01mnot\u001b[39;00m \u001b[38;5;28mlen\u001b[39m(resp_data):\n\u001b[1;32m     98\u001b[0m         \u001b[38;5;28;01mreturn\u001b[39;00m resp_headers, \u001b[38;5;28;01mNone\u001b[39;00m\n",
      "File \u001b[0;32m~/software/projects/eodh/pyeodh/pyeodh/client.py:80\u001b[0m, in \u001b[0;36mClient._request_json_raw\u001b[0;34m(self, method, url, headers, params, data, encode)\u001b[0m\n\u001b[1;32m     73\u001b[0m logger\u001b[38;5;241m.\u001b[39mdebug(\n\u001b[1;32m     74\u001b[0m     \u001b[38;5;124mf\u001b[39m\u001b[38;5;124m\"\u001b[39m\u001b[38;5;124mReceived response \u001b[39m\u001b[38;5;132;01m{\u001b[39;00mresponse\u001b[38;5;241m.\u001b[39mstatus_code\u001b[38;5;132;01m}\u001b[39;00m\u001b[38;5;130;01m\\n\u001b[39;00m\u001b[38;5;124mheaders: \u001b[39m\u001b[38;5;132;01m{\u001b[39;00mresponse\u001b[38;5;241m.\u001b[39mheaders\u001b[38;5;132;01m}\u001b[39;00m\u001b[38;5;124m\"\u001b[39m\n\u001b[1;32m     75\u001b[0m     \u001b[38;5;124mf\u001b[39m\u001b[38;5;124m\"\u001b[39m\u001b[38;5;130;01m\\n\u001b[39;00m\u001b[38;5;124mcontent: \u001b[39m\u001b[38;5;132;01m{\u001b[39;00mresponse\u001b[38;5;241m.\u001b[39mtext\u001b[38;5;132;01m}\u001b[39;00m\u001b[38;5;124m\"\u001b[39m\n\u001b[1;32m     76\u001b[0m )\n\u001b[1;32m     77\u001b[0m \u001b[38;5;66;03m# TODO consider moving this to _requst_json() and raise own exceptions\u001b[39;00m\n\u001b[1;32m     78\u001b[0m \u001b[38;5;66;03m# so that we can user _raw in e.g. delete methods where we expect a 409 and\u001b[39;00m\n\u001b[1;32m     79\u001b[0m \u001b[38;5;66;03m# want to recover\u001b[39;00m\n\u001b[0;32m---> 80\u001b[0m \u001b[43mresponse\u001b[49m\u001b[38;5;241;43m.\u001b[39;49m\u001b[43mraise_for_status\u001b[49m\u001b[43m(\u001b[49m\u001b[43m)\u001b[49m\n\u001b[1;32m     82\u001b[0m \u001b[38;5;28;01mreturn\u001b[39;00m response\u001b[38;5;241m.\u001b[39mstatus_code, response\u001b[38;5;241m.\u001b[39mheaders, response\u001b[38;5;241m.\u001b[39mtext\n",
      "File \u001b[0;32m~/.cache/pypoetry/virtualenvs/pyeodh-nIJJSYvj-py3.12/lib/python3.12/site-packages/requests/models.py:1021\u001b[0m, in \u001b[0;36mResponse.raise_for_status\u001b[0;34m(self)\u001b[0m\n\u001b[1;32m   1016\u001b[0m     http_error_msg \u001b[38;5;241m=\u001b[39m (\n\u001b[1;32m   1017\u001b[0m         \u001b[38;5;124mf\u001b[39m\u001b[38;5;124m\"\u001b[39m\u001b[38;5;132;01m{\u001b[39;00m\u001b[38;5;28mself\u001b[39m\u001b[38;5;241m.\u001b[39mstatus_code\u001b[38;5;132;01m}\u001b[39;00m\u001b[38;5;124m Server Error: \u001b[39m\u001b[38;5;132;01m{\u001b[39;00mreason\u001b[38;5;132;01m}\u001b[39;00m\u001b[38;5;124m for url: \u001b[39m\u001b[38;5;132;01m{\u001b[39;00m\u001b[38;5;28mself\u001b[39m\u001b[38;5;241m.\u001b[39murl\u001b[38;5;132;01m}\u001b[39;00m\u001b[38;5;124m\"\u001b[39m\n\u001b[1;32m   1018\u001b[0m     )\n\u001b[1;32m   1020\u001b[0m \u001b[38;5;28;01mif\u001b[39;00m http_error_msg:\n\u001b[0;32m-> 1021\u001b[0m     \u001b[38;5;28;01mraise\u001b[39;00m HTTPError(http_error_msg, response\u001b[38;5;241m=\u001b[39m\u001b[38;5;28mself\u001b[39m)\n",
      "\u001b[0;31mHTTPError\u001b[0m: 405 Client Error: Method Not Allowed for url: https://test.eodatahub.org.uk/stac-fastapi/catalogs/stac-fastapi/collections/cmip6/items/CMIP6.ScenarioMIP.THU.CIESM.ssp585.r1i1p1f1.Amon.rsus.gr.v20200806"
     ]
    }
   ],
   "source": [
    "# GET /stac-fastapi/collections/{collection_id}/items/{item_id}\n",
    "cmip6 = rc.get_collection(\"cmip6\")\n",
    "item = cmip6.get_item(\"CMIP6.ScenarioMIP.THU.CIESM.ssp585.r1i1p1f1.Amon.rsus.gr.v20200806\")\n",
    "print(item.id)"
   ]
  },
  {
   "cell_type": "markdown",
   "metadata": {},
   "source": [
    "Some API responses are paginated (e.g. collection items), and you can simply iterate over them."
   ]
  },
  {
   "cell_type": "code",
   "execution_count": 5,
   "metadata": {},
   "outputs": [
    {
     "name": "stdout",
     "output_type": "stream",
     "text": [
      "CMIP6.ScenarioMIP.THU.CIESM.ssp585.r1i1p1f1.Amon.rsus.gr.v20200806\n",
      "CMIP6.ScenarioMIP.THU.CIESM.ssp585.r1i1p1f1.Amon.rlus.gr.v20200806\n",
      "CMIP6.ScenarioMIP.CSIRO.ACCESS-ESM1-5.ssp126.r1i1p1f1.day.uas.gn.v20210318\n",
      "CMIP6.ScenarioMIP.CSIRO-ARCCSS.ACCESS-CM2.ssp585.r1i1p1f1.day.pr.gn.v20210317\n",
      "CMIP6.ScenarioMIP.CSIRO-ARCCSS.ACCESS-CM2.ssp126.r1i1p1f1.day.pr.gn.v20210317\n",
      "CMIP6.ScenarioMIP.CSIRO.ACCESS-ESM1-5.ssp585.r1i1p1f1.day.rsds.gn.v20210318\n",
      "CMIP6.ScenarioMIP.CSIRO.ACCESS-ESM1-5.ssp585.r1i1p1f1.day.hurs.gn.v20210318\n",
      "CMIP6.ScenarioMIP.CSIRO-ARCCSS.ACCESS-CM2.ssp585.r1i1p1f1.day.tas.gn.v20210317\n",
      "CMIP6.ScenarioMIP.CSIRO-ARCCSS.ACCESS-CM2.ssp585.r1i1p1f1.day.psl.gn.v20210317\n",
      "CMIP6.ScenarioMIP.CSIRO-ARCCSS.ACCESS-CM2.ssp126.r1i1p1f1.day.tasmin.gn.v20210317\n"
     ]
    }
   ],
   "source": [
    "# GET /stac-fastapi/collections/cmip6/items\n",
    "items = cmip6.get_items()\n",
    "for item in items:\n",
    "    print(item.id)"
   ]
  },
  {
   "cell_type": "markdown",
   "metadata": {},
   "source": [
    "Attempting to create a collection with id that already exists will result in 409 error code. To see the example in action delete the test collection first by running the cell below.\n",
    "\n",
    "Delete a colletion"
   ]
  },
  {
   "cell_type": "code",
   "execution_count": 6,
   "metadata": {},
   "outputs": [],
   "source": [
    "rc.get_collection(\"test1\").delete()"
   ]
  },
  {
   "cell_type": "markdown",
   "metadata": {},
   "source": [
    "Create new collection example"
   ]
  },
  {
   "cell_type": "code",
   "execution_count": 7,
   "metadata": {},
   "outputs": [
    {
     "name": "stdout",
     "output_type": "stream",
     "text": [
      "Test collection\n"
     ]
    }
   ],
   "source": [
    "test1 = rc.create_collection(id=\"test1\", title=\"Test\", description=\"Test collection\")\n",
    "print(test1.description)"
   ]
  },
  {
   "cell_type": "markdown",
   "metadata": {},
   "source": [
    "Update a collection"
   ]
  },
  {
   "cell_type": "code",
   "execution_count": 8,
   "metadata": {},
   "outputs": [
    {
     "name": "stdout",
     "output_type": "stream",
     "text": [
      "Different description\n"
     ]
    }
   ],
   "source": [
    "test1.update(description=\"Different description\")\n",
    "print(test1.description)"
   ]
  },
  {
   "cell_type": "markdown",
   "metadata": {},
   "source": [
    "Create an item"
   ]
  },
  {
   "cell_type": "code",
   "execution_count": 9,
   "metadata": {},
   "outputs": [
    {
     "name": "stdout",
     "output_type": "stream",
     "text": [
      "Created test1.testitem1 in collection test1\n"
     ]
    }
   ],
   "source": [
    "testitem1 = test1.create_item(id=\"test1.testitem1\")\n",
    "print(f\"Created {testitem1.id} in collection {testitem1.collection}\")"
   ]
  },
  {
   "cell_type": "markdown",
   "metadata": {},
   "source": [
    "Update an item"
   ]
  },
  {
   "cell_type": "code",
   "execution_count": 10,
   "metadata": {},
   "outputs": [
    {
     "name": "stdout",
     "output_type": "stream",
     "text": [
      "{'foo': 'bar', 'updated': '2024-04-30T14:08:44.187241Z', 'created': '2024-04-30T14:08:44.187241Z'}\n"
     ]
    }
   ],
   "source": [
    "testitem1.update(properties={\"foo\": \"bar\"})\n",
    "print(testitem1.properties)"
   ]
  },
  {
   "cell_type": "markdown",
   "metadata": {},
   "source": [
    "Delete an item"
   ]
  },
  {
   "cell_type": "code",
   "execution_count": 11,
   "metadata": {},
   "outputs": [],
   "source": [
    "testitem1.delete()"
   ]
  },
  {
   "cell_type": "markdown",
   "metadata": {},
   "source": [
    "Find out more information about the resource catalog."
   ]
  },
  {
   "cell_type": "code",
   "execution_count": 12,
   "metadata": {},
   "outputs": [
    {
     "name": "stdout",
     "output_type": "stream",
     "text": [
      "Livecheck: PING-PONG\n"
     ]
    },
    {
     "name": "stdout",
     "output_type": "stream",
     "text": [
      "\n",
      "API conforms to:\n",
      "http://www.opengis.net/spec/ogcapi-features-1/1.0/conf/oas30\n",
      "http://www.opengis.net/spec/cql2/1.0/conf/advanced-comparison-operators\n",
      "http://www.opengis.net/spec/ogcapi-features-3/1.0/conf/features-filter\n",
      "http://www.opengis.net/spec/cql2/1.0/conf/cql2-text\n",
      "http://www.opengis.net/spec/cql2/1.0/conf/basic-cql2\n",
      "https://api.stacspec.org/v1.0.0-rc.2/item-search#filter\n",
      "http://www.opengis.net/spec/cql2/1.0/conf/cql2-json\n",
      "http://www.opengis.net/spec/ogcapi-features-1/1.0/conf/geojson\n",
      "https://api.stacspec.org/v1.0.0/collections\n",
      "https://api.stacspec.org/v1.0.0/ogcapi-features\n",
      "https://api.stacspec.org/v1.0.0-rc.2/item-search#context\n",
      "https://api.stacspec.org/v1.0.0/item-search#sort\n",
      "http://www.opengis.net/spec/ogcapi-features-3/1.0/conf/filter\n",
      "https://api.stacspec.org/v1.0.0/item-search#fields\n",
      "https://api.stacspec.org/v1.0.0-rc.3/ogcapi-features/extensions/transaction\n",
      "https://api.stacspec.org/v1.0.0/core\n",
      "https://api.stacspec.org/v1.0.0/item-search#query\n",
      "http://www.opengis.net/spec/ogcapi-features-1/1.0/conf/core\n",
      "https://api.stacspec.org/v1.0.0/item-search\n"
     ]
    }
   ],
   "source": [
    "print(f\"Livecheck: PING-{rc.ping()}\")\n",
    "print(\"\\nAPI conforms to:\", *rc.get_conformance(), sep=\"\\n\")"
   ]
  },
  {
   "cell_type": "markdown",
   "metadata": {},
   "source": [
    "Search the catalog"
   ]
  },
  {
   "cell_type": "code",
   "execution_count": 13,
   "metadata": {},
   "outputs": [
    {
     "name": "stdout",
     "output_type": "stream",
     "text": [
      "CMIP6.ScenarioMIP.THU.CIESM.ssp585.r1i1p1f1.Amon.rsus.gr.v20200806\n",
      "CMIP6.ScenarioMIP.THU.CIESM.ssp585.r1i1p1f1.Amon.rlus.gr.v20200806\n",
      "CMIP6.ScenarioMIP.CSIRO.ACCESS-ESM1-5.ssp126.r1i1p1f1.day.uas.gn.v20210318\n",
      "CMIP6.ScenarioMIP.CSIRO-ARCCSS.ACCESS-CM2.ssp585.r1i1p1f1.day.pr.gn.v20210317\n",
      "CMIP6.ScenarioMIP.CSIRO-ARCCSS.ACCESS-CM2.ssp126.r1i1p1f1.day.pr.gn.v20210317\n",
      "CMIP6.ScenarioMIP.CSIRO.ACCESS-ESM1-5.ssp585.r1i1p1f1.day.rsds.gn.v20210318\n",
      "CMIP6.ScenarioMIP.CSIRO.ACCESS-ESM1-5.ssp585.r1i1p1f1.day.hurs.gn.v20210318\n",
      "CMIP6.ScenarioMIP.CSIRO-ARCCSS.ACCESS-CM2.ssp585.r1i1p1f1.day.tas.gn.v20210317\n",
      "CMIP6.ScenarioMIP.CSIRO-ARCCSS.ACCESS-CM2.ssp585.r1i1p1f1.day.psl.gn.v20210317\n",
      "CMIP6.ScenarioMIP.CSIRO-ARCCSS.ACCESS-CM2.ssp126.r1i1p1f1.day.tasmin.gn.v20210317\n"
     ]
    }
   ],
   "source": [
    "for result in rc.search(collections=['cmip6']):\n",
    "    print(result.id)"
   ]
  }
 ],
 "metadata": {
  "kernelspec": {
   "display_name": "pyeodh-nIJJSYvj-py3.12",
   "language": "python",
   "name": "python3"
  },
  "language_info": {
   "codemirror_mode": {
    "name": "ipython",
    "version": 3
   },
   "file_extension": ".py",
   "mimetype": "text/x-python",
   "name": "python",
   "nbconvert_exporter": "python",
   "pygments_lexer": "ipython3",
   "version": "3.12.2"
  }
 },
 "nbformat": 4,
 "nbformat_minor": 2
}
