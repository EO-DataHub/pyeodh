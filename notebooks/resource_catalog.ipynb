{
 "cells": [
  {
   "cell_type": "markdown",
   "metadata": {},
   "source": [
    "# Resource Catalog\n",
    "\n",
    "This notebook demostrates usage of the EODH resource catalog API using `pyeodh`"
   ]
  },
  {
   "cell_type": "markdown",
   "metadata": {},
   "source": [
    "First we need to create an instance of the `Client`, which is our entrypoint to EODH APIs."
   ]
  },
  {
   "cell_type": "code",
   "execution_count": 1,
   "metadata": {},
   "outputs": [],
   "source": [
    "import pyeodh\n",
    "\n",
    "client = pyeodh.Client(base_url=\"https://test.eodatahub.org.uk\") # Optionally specify a different server"
   ]
  },
  {
   "cell_type": "markdown",
   "metadata": {},
   "source": [
    "Fetch the resource catalog object."
   ]
  },
  {
   "cell_type": "code",
   "execution_count": 3,
   "metadata": {},
   "outputs": [],
   "source": [
    "# GET /stac-fastapi/catalogs\n",
    "service = client.get_catalog_service()\n",
    "catalogs = service.get_catalogs()\n",
    "ceda_cat = service.get_catalog(\"supported-datasets/ceda-stac-fastapi\")"
   ]
  },
  {
   "cell_type": "markdown",
   "metadata": {},
   "source": [
    "All attributes are mapped to properties, e.g."
   ]
  },
  {
   "cell_type": "code",
   "execution_count": 4,
   "metadata": {},
   "outputs": [
    {
     "name": "stdout",
     "output_type": "stream",
     "text": [
      "id:  093927f4-12ad-11ef-94e9-7e375e8a9c97\n",
      "title:  \n",
      "description:  Root catalog\n",
      "\n",
      "id:  0fcb2296-2411-11ef-bcbd-da6b61b15d6d\n",
      "title:  \n",
      "description:  Root catalog\n",
      "\n",
      "id:  1440d164-1376-11ef-b8ab-e20b664dd0f8\n",
      "title:  \n",
      "description:  Root catalog\n",
      "\n",
      "id:  93cdafea-1dc8-11ef-968f-6a7abc48984c\n",
      "title:  \n",
      "description:  Root catalog\n",
      "\n",
      "id:  97d80a3c-1dc7-11ef-92a3-6a7abc48984c\n",
      "title:  \n",
      "description:  Root catalog\n",
      "\n",
      "id:  ad608ce4-1d0e-11ef-8036-563e2ce721d4\n",
      "title:  \n",
      "description:  Root catalog\n",
      "\n",
      "id:  ceda-stac-fastapi\n",
      "title:  Supported Datasets\n",
      "description:  Catalogue containing supported datasets\n",
      "\n",
      "id:  earth-search-aws\n",
      "title:  Earth Search by Element 84\n",
      "description:  A STAC API of public datasets on AWS\n",
      "\n",
      "id:  sgillies-tpzuk\n",
      "title:  sgillies Workspace\n",
      "description:  A collection of EODHP catalogues\n",
      "\n",
      "id:  tjellicoe-tpzuk\n",
      "title:  tjellicoe Workspace\n",
      "description:  A collection of EODHP catalogues\n",
      "\n"
     ]
    }
   ],
   "source": [
    "for cat in catalogs:\n",
    "    print(\"id: \", cat.id)\n",
    "    print(\"title: \", cat.title)\n",
    "    print(\"description: \", cat.description)\n",
    "    print(\"\")"
   ]
  },
  {
   "cell_type": "markdown",
   "metadata": {},
   "source": [
    "API endpoints are wrapped in methods and are structured into classes following the same logic as the API. E.g. to fetch a collection item, I first need to get the collection from the resource catalog."
   ]
  },
  {
   "cell_type": "code",
   "execution_count": 5,
   "metadata": {},
   "outputs": [
    {
     "name": "stdout",
     "output_type": "stream",
     "text": [
      "CMIP6.ScenarioMIP.THU.CIESM.ssp585.r1i1p1f1.Amon.rsus.gr.v20200806\n"
     ]
    }
   ],
   "source": [
    "# GET /stac-fastapi/collections/{collection_id}/items/{item_id}\n",
    "cmip6 = ceda_cat.get_collection(\"cmip6\")\n",
    "item = cmip6.get_item(\"CMIP6.ScenarioMIP.THU.CIESM.ssp585.r1i1p1f1.Amon.rsus.gr.v20200806\")\n",
    "print(item.id)"
   ]
  },
  {
   "cell_type": "markdown",
   "metadata": {},
   "source": [
    "Some API responses are paginated (e.g. collection items), and you can simply iterate over them."
   ]
  },
  {
   "cell_type": "code",
   "execution_count": 6,
   "metadata": {},
   "outputs": [
    {
     "name": "stdout",
     "output_type": "stream",
     "text": [
      "CMIP6.ScenarioMIP.THU.CIESM.ssp585.r1i1p1f1.Amon.rsus.gr.v20200806\n",
      "CMIP6.ScenarioMIP.THU.CIESM.ssp585.r1i1p1f1.Amon.rlus.gr.v20200806\n",
      "CMIP6.ScenarioMIP.CSIRO.ACCESS-ESM1-5.ssp126.r1i1p1f1.day.uas.gn.v20210318\n",
      "CMIP6.ScenarioMIP.CSIRO-ARCCSS.ACCESS-CM2.ssp585.r1i1p1f1.day.pr.gn.v20210317\n",
      "CMIP6.ScenarioMIP.CSIRO-ARCCSS.ACCESS-CM2.ssp126.r1i1p1f1.day.pr.gn.v20210317\n",
      "CMIP6.ScenarioMIP.CSIRO.ACCESS-ESM1-5.ssp585.r1i1p1f1.day.rsds.gn.v20210318\n",
      "CMIP6.ScenarioMIP.CSIRO.ACCESS-ESM1-5.ssp585.r1i1p1f1.day.hurs.gn.v20210318\n",
      "CMIP6.ScenarioMIP.CSIRO-ARCCSS.ACCESS-CM2.ssp585.r1i1p1f1.day.tas.gn.v20210317\n",
      "CMIP6.ScenarioMIP.CSIRO-ARCCSS.ACCESS-CM2.ssp585.r1i1p1f1.day.psl.gn.v20210317\n",
      "CMIP6.ScenarioMIP.CSIRO-ARCCSS.ACCESS-CM2.ssp126.r1i1p1f1.day.tasmin.gn.v20210317\n"
     ]
    }
   ],
   "source": [
    "# GET /stac-fastapi/collections/cmip6/items\n",
    "items = cmip6.get_items()\n",
    "for item in items:\n",
    "    print(item.id)"
   ]
  },
  {
   "cell_type": "markdown",
   "metadata": {},
   "source": [
    "Find out more information about the resource catalog."
   ]
  },
  {
   "cell_type": "code",
   "execution_count": 8,
   "metadata": {},
   "outputs": [
    {
     "name": "stdout",
     "output_type": "stream",
     "text": [
      "Livecheck: PING-PONG\n",
      "\n",
      "API conforms to:\n",
      "http://www.opengis.net/spec/ogcapi-common-2/1.0/conf/simple-query\n",
      "http://www.opengis.net/spec/ogcapi-features-3/1.0/conf/features-filter\n",
      "/discovery-search\n",
      "http://www.opengis.net/spec/cql2/1.0/conf/advanced-comparison-operators\n",
      "https://api.stacspec.org/v1.0.0/item-search#sort\n",
      "http://www.opengis.net/spec/ogcapi-features-1/1.0/conf/core\n",
      "http://www.opengis.net/spec/ogcapi-features-1/1.0/conf/geojson\n",
      "https://api.stacspec.org/v1.0.0-rc.2/item-search#filter\n",
      "https://api.stacspec.org/v1.0.0-rc.1/collection-search#free-text\n",
      "/catalogues\n",
      "https://api.stacspec.org/v1.0.0-rc.2/item-search#context\n",
      "https://api.stacspec.org/v1.0.0/item-search\n",
      "https://api.stacspec.org/v1.0.0-rc.1/collection-search\n",
      "http://www.opengis.net/spec/cql2/1.0/conf/cql2-text\n",
      "https://api.stacspec.org/v1.0.0/collections\n",
      "https://api.stacspec.org/v1.0.0/ogcapi-features\n",
      "http://www.opengis.net/spec/ogcapi-features-1/1.0/conf/oas30\n",
      "http://www.opengis.net/spec/cql2/1.0/conf/cql2-json\n",
      "https://api.stacspec.org/v1.0.0/core\n",
      "https://api.stacspec.org/v1.0.0/item-search#fields\n",
      "https://api.stacspec.org/v1.0.0/item-search#query\n",
      "http://www.opengis.net/spec/cql2/1.0/conf/basic-cql2\n",
      "https://api.stacspec.org/v1.0.0-rc.1/core\n",
      "http://www.opengis.net/spec/ogcapi-features-3/1.0/conf/filter\n"
     ]
    }
   ],
   "source": [
    "print(f\"Livecheck: PING-{service.ping()}\")\n",
    "print(\"\\nAPI conforms to:\", *service.get_conformance(), sep=\"\\n\")"
   ]
  },
  {
   "cell_type": "markdown",
   "metadata": {},
   "source": [
    "Search the catalog"
   ]
  },
  {
   "cell_type": "code",
   "execution_count": null,
   "metadata": {},
   "outputs": [],
   "source": [
    "for result in service.search(collections=['cmip6']):\n",
    "    print(result.id)"
   ]
  }
 ],
 "metadata": {
  "kernelspec": {
   "display_name": "pyeodh-nIJJSYvj-py3.12",
   "language": "python",
   "name": "python3"
  },
  "language_info": {
   "codemirror_mode": {
    "name": "ipython",
    "version": 3
   },
   "file_extension": ".py",
   "mimetype": "text/x-python",
   "name": "python",
   "nbconvert_exporter": "python",
   "pygments_lexer": "ipython3",
   "version": "3.11.9"
  }
 },
 "nbformat": 4,
 "nbformat_minor": 2
}
